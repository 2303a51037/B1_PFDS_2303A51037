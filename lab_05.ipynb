{
  "nbformat": 4,
  "nbformat_minor": 0,
  "metadata": {
    "colab": {
      "provenance": [],
      "authorship_tag": "ABX9TyN2hTjmGQHI6z4a6DxHxRik",
      "include_colab_link": true
    },
    "kernelspec": {
      "name": "python3",
      "display_name": "Python 3"
    },
    "language_info": {
      "name": "python"
    }
  },
  "cells": [
    {
      "cell_type": "markdown",
      "metadata": {
        "id": "view-in-github",
        "colab_type": "text"
      },
      "source": [
        "<a href=\"https://colab.research.google.com/github/2303a51037/B1_PFDS_2303A51037/blob/main/lab_05.ipynb\" target=\"_parent\"><img src=\"https://colab.research.google.com/assets/colab-badge.svg\" alt=\"Open In Colab\"/></a>"
      ]
    },
    {
      "cell_type": "code",
      "execution_count": 3,
      "metadata": {
        "id": "4soQ-Hnl5ej9",
        "colab": {
          "base_uri": "https://localhost:8080/"
        },
        "outputId": "ade2bf8c-79b8-4af7-f9f1-1015e3619a9c"
      },
      "outputs": [
        {
          "output_type": "stream",
          "name": "stdout",
          "text": [
            "mul [[19 22]\n",
            " [43 50]]\n",
            "transpose:/n [[-2.   1. ]\n",
            " [ 1.5 -0.5]]\n",
            "determinant: -2.0000000000000004\n"
          ]
        }
      ],
      "source": [
        "import numpy as np\n",
        "a=np.array([[1,2],[3,4]])\n",
        "b=np.array([[5,6],[7,8]])\n",
        "print(\"mul\",np.dot(a,b))\n",
        "print(\"transpose:/n\",np.linalg.inv(a))\n",
        "print(\"determinant:\",np.linalg.det(a))\n",
        "\n"
      ]
    },
    {
      "cell_type": "code",
      "source": [
        "marks=np.random.randint(50,101,size=(5,4))\n",
        "print(marks)\n",
        "print(\"avg marks of student\",np.mean(marks,axis=1))\n",
        "print(\"avg marks of subject\",np.mean(marks,axis=0))\n",
        "print(\"student with highest total marks\",np.max(np.sum(marks,axis=1)))\n",
        "print(\"subject with lowest total marks\",np.min(np.sum(marks,axis=0)))"
      ],
      "metadata": {
        "colab": {
          "base_uri": "https://localhost:8080/"
        },
        "id": "4oF76lOd8A8O",
        "outputId": "7ad0cde4-3ec3-4abd-df1c-46c202f5cedc"
      },
      "execution_count": 5,
      "outputs": [
        {
          "output_type": "stream",
          "name": "stdout",
          "text": [
            "[[67 61 83 55]\n",
            " [94 89 58 64]\n",
            " [99 71 89 92]\n",
            " [65 65 71 54]\n",
            " [72 87 82 52]]\n",
            "avg marks of student [66.5  76.25 87.75 63.75 73.25]\n",
            "avg marks of subject [79.4 74.6 76.6 63.4]\n",
            "student with highest total marks 351\n",
            "subject with lowest total marks 317\n"
          ]
        }
      ]
    },
    {
      "cell_type": "code",
      "source": [
        "import pandas as pd\n",
        "data=[10,20,30,40,50]\n",
        "index_labels=['a','b','c','d','e']\n",
        "series=pd.Series(data,index=index_labels)\n",
        "print(series)"
      ],
      "metadata": {
        "colab": {
          "base_uri": "https://localhost:8080/"
        },
        "id": "GujeEr-n891m",
        "outputId": "be93e96b-fcf8-4cd6-a586-6220f5f2dd15"
      },
      "execution_count": 7,
      "outputs": [
        {
          "output_type": "stream",
          "name": "stdout",
          "text": [
            "a    10\n",
            "b    20\n",
            "c    30\n",
            "d    40\n",
            "e    50\n",
            "dtype: int64\n"
          ]
        }
      ]
    },
    {
      "cell_type": "code",
      "source": [
        "import pandas as pd\n",
        "data={\n",
        "    'Name':['Alice','Bob','Charlie','rama'],\n",
        "    'Age':[25,30,35,18],\n",
        "    'City':['New York','San Francisco','Los Angeles','hnk']\n",
        "}\n",
        "df=pd.DataFrame(data)\n",
        "print(\"Pandas DataFrame:\")\n",
        "print(df)\n",
        "print(df[['Name','City']])\n",
        "print(df.iloc[1])\n",
        "print(df.loc[2])\n",
        "df=df.drop('City',axis=1)\n",
        "print(df)\n",
        "print(df[df['Age']>30])\n",
        "print(df['Age'].mean())\n",
        "print(df['Age'].max())\n",
        "print(df['Age'].min())\n",
        "print(df.sort_values(by='Age'))\n",
        "\n",
        ""
      ],
      "metadata": {
        "colab": {
          "base_uri": "https://localhost:8080/"
        },
        "id": "86ErwViu-M12",
        "outputId": "76854fcf-fdda-4eae-b7a0-a0af54df25ae"
      },
      "execution_count": 14,
      "outputs": [
        {
          "output_type": "stream",
          "name": "stdout",
          "text": [
            "Pandas DataFrame:\n",
            "      Name  Age           City\n",
            "0    Alice   25       New York\n",
            "1      Bob   30  San Francisco\n",
            "2  Charlie   35    Los Angeles\n",
            "3     rama   18            hnk\n",
            "      Name           City\n",
            "0    Alice       New York\n",
            "1      Bob  San Francisco\n",
            "2  Charlie    Los Angeles\n",
            "3     rama            hnk\n",
            "Name              Bob\n",
            "Age                30\n",
            "City    San Francisco\n",
            "Name: 1, dtype: object\n",
            "Name        Charlie\n",
            "Age              35\n",
            "City    Los Angeles\n",
            "Name: 2, dtype: object\n",
            "      Name  Age\n",
            "0    Alice   25\n",
            "1      Bob   30\n",
            "2  Charlie   35\n",
            "3     rama   18\n",
            "      Name  Age\n",
            "2  Charlie   35\n",
            "27.0\n",
            "35\n",
            "18\n",
            "      Name  Age\n",
            "3     rama   18\n",
            "0    Alice   25\n",
            "1      Bob   30\n",
            "2  Charlie   35\n",
            "-------------------------------------------------------------------\n"
          ]
        }
      ]
    },
    {
      "cell_type": "code",
      "source": [
        "import pandas as pd\n",
        "student_data = {\n",
        "    'Student_ID': ['1001', '1002', '1003', '1004'],\n",
        "    'Name':['rama','neha','kiran','sita'],\n",
        "\n",
        "    'Marks': [50,99, 70, 21],\n",
        "    'Department': ['CSE','ECE','MECH','CIVIL']\n",
        "}\n",
        "df = pd.DataFrame(student_data)\n",
        "print(\"Student Data\")\n",
        "print(\"\\nStudents with Marks>80\")\n",
        "print(df[df['Marks']>80])\n",
        "print(\"\\nAverage Marks\",df['Marks'].mean())\n",
        "df['Result']=['Pass' if x>40 else 'Fail' for x in df['Marks']]\n",
        "print(\"\\nWith Result Column\")\n",
        "print(df)"
      ],
      "metadata": {
        "colab": {
          "base_uri": "https://localhost:8080/"
        },
        "id": "mAb-Plv7_aiv",
        "outputId": "9ededa4e-d502-41f8-f643-13cea63e9a0d"
      },
      "execution_count": 18,
      "outputs": [
        {
          "output_type": "stream",
          "name": "stdout",
          "text": [
            "Student Data\n",
            "\n",
            "Students with Marks>80\n",
            "  Student_ID  Name  Marks Department\n",
            "1       1002  neha     99        ECE\n",
            "\n",
            "Average Marks 60.0\n",
            "\n",
            "With Result Column\n",
            "  Student_ID   Name  Marks Department Result\n",
            "0       1001   rama     50        CSE   Pass\n",
            "1       1002   neha     99        ECE   Pass\n",
            "2       1003  kiran     70       MECH   Pass\n",
            "3       1004   sita     21      CIVIL   Fail\n"
          ]
        }
      ]
    },
    {
      "cell_type": "code",
      "source": [],
      "metadata": {
        "id": "1or5uPr9FKGo"
      },
      "execution_count": null,
      "outputs": []
    }
  ]
}