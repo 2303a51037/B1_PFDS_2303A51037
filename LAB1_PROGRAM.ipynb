{
  "nbformat": 4,
  "nbformat_minor": 0,
  "metadata": {
    "colab": {
      "provenance": [],
      "authorship_tag": "ABX9TyP64+TxSOCjgfJgPfzlRLyE",
      "include_colab_link": true
    },
    "kernelspec": {
      "name": "python3",
      "display_name": "Python 3"
    },
    "language_info": {
      "name": "python"
    }
  },
  "cells": [
    {
      "cell_type": "markdown",
      "metadata": {
        "id": "view-in-github",
        "colab_type": "text"
      },
      "source": [
        "<a href=\"https://colab.research.google.com/github/2303a51037/B1_PFDS_2303A51037/blob/main/LAB1_PROGRAM.ipynb\" target=\"_parent\"><img src=\"https://colab.research.google.com/assets/colab-badge.svg\" alt=\"Open In Colab\"/></a>"
      ]
    },
    {
      "cell_type": "code",
      "execution_count": 2,
      "metadata": {
        "colab": {
          "base_uri": "https://localhost:8080/"
        },
        "id": "Kdz0nC6w-_f-",
        "outputId": "725ecb94-a8ee-41a6-9e19-3f0eb0df8f99"
      },
      "outputs": [
        {
          "output_type": "stream",
          "name": "stdout",
          "text": [
            "Enter a number (≤ 10): 6\n",
            "\n",
            "--- Call Stack Trace ---\n",
            "fact(6) called\n",
            "  fact(5) called\n",
            "    fact(4) called\n",
            "      fact(3) called\n",
            "        fact(2) called\n",
            "          fact(1) called\n",
            "          Returning 1\n",
            "        Returning 2\n",
            "      Returning 6\n",
            "    Returning 24\n",
            "  Returning 120\n",
            "Returning 720\n",
            "\n",
            "Result: 720\n"
          ]
        }
      ],
      "source": [
        "def fact(n, depth=0):\n",
        "    space = \"  \" * depth\n",
        "    print(f\"{space}fact({n}) called\")\n",
        "    if n == 0 or n == 1:\n",
        "        print(f\"{space}Returning 1\")\n",
        "        return 1\n",
        "    else:\n",
        "        res = n * fact(n - 1, depth + 1)\n",
        "        print(f\"{space}Returning {res}\")\n",
        "        return res\n",
        "\n",
        "num = int(input(\"Enter a number (≤ 10): \"))\n",
        "if 0 <= num <= 10:\n",
        "    print(\"\\n--- Call Stack Trace ---\")\n",
        "    result = fact(num)\n",
        "    print(f\"\\nResult: {result}\")\n",
        "else:\n",
        "    print(\"Invalid input. Please enter a number between 0 and 10.\")\n",
        "\n",
        "\n",
        "\n"
      ]
    }
  ]
}